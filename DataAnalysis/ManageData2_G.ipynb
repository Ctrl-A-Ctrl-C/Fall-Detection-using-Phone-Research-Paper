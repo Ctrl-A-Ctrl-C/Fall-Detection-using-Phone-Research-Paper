{
 "cells": [
  {
   "cell_type": "code",
   "execution_count": 1,
   "id": "1a495191-769c-416e-9323-100a79c5955d",
   "metadata": {},
   "outputs": [],
   "source": [
    "import pandas as pd\n",
    "import numpy as np\n",
    "import matplotlib.pyplot as plt\n",
    "from sklearn.model_selection import train_test_split\n",
    "\n",
    "from sklearn.preprocessing import StandardScaler, LabelEncoder\n",
    "import matplotlib as mpl\n",
    "import seaborn as sns\n",
    "import os\n",
    "import glob"
   ]
  },
  {
   "cell_type": "code",
   "execution_count": 2,
   "id": "903fddc3-aae4-4bd3-a674-174de6ae60c8",
   "metadata": {},
   "outputs": [],
   "source": [
    "df = pd.read_csv(\"C:/Users/phuon/EDX/EPQDataAnalysis/_Extracted Data 2/filesTV_1_1.csv\", delimiter = \",\")\n",
    "\n",
    "df[\"Activity\"] = df[\"Activity\"].fillna(\"Walking\")\n",
    "\n",
    "df.to_csv(\"C:/Users/phuon/EDX/EPQDataAnalysis/_Extracted Data 2/filesTV_1_1.csv\", index=False) "
   ]
  },
  {
   "cell_type": "code",
   "execution_count": 3,
   "id": "f06c048f-e188-4bd2-9f4c-ba287abab6a1",
   "metadata": {},
   "outputs": [],
   "source": [
    "df = pd.read_csv(\"C:/Users/phuon/EDX/EPQDataAnalysis/_Extracted Data 2/filesTV_1_2.csv\", delimiter = \",\")\n",
    "\n",
    "df[\"Activity\"] = df[\"Activity\"].fillna(\"Walking\")\n",
    "\n",
    "df.to_csv(\"C:/Users/phuon/EDX/EPQDataAnalysis/_Extracted Data 2/filesTV_1_2.csv\", index=False) "
   ]
  },
  {
   "cell_type": "code",
   "execution_count": 4,
   "id": "f06df99f-65c8-4a26-ace1-8bb599bbfc40",
   "metadata": {},
   "outputs": [],
   "source": [
    "df = pd.read_csv(\"C:/Users/phuon/EDX/EPQDataAnalysis/_Extracted Data 2/filesTV_1_3.csv\", delimiter = \",\")\n",
    "\n",
    "df[\"Activity\"] = df[\"Activity\"].fillna(\"Walking\")\n",
    "\n",
    "df.to_csv(\"C:/Users/phuon/EDX/EPQDataAnalysis/_Extracted Data 2/filesTV_1_3.csv\", index=False) "
   ]
  },
  {
   "cell_type": "code",
   "execution_count": 5,
   "id": "fba2f960-4436-43b5-9f3d-6b4a962163b8",
   "metadata": {},
   "outputs": [],
   "source": [
    "df = pd.read_csv(\"C:/Users/phuon/EDX/EPQDataAnalysis/_Extracted Data 2/filesTV_2_1.csv\", delimiter = \",\")\n",
    "\n",
    "df[\"Activity\"] = df[\"Activity\"].fillna(\"Falling Forwards\")\n",
    "\n",
    "df.to_csv(\"C:/Users/phuon/EDX/EPQDataAnalysis/_Extracted Data 2/filesTV_2_1.csv\", index=False) "
   ]
  },
  {
   "cell_type": "code",
   "execution_count": 6,
   "id": "62ed8c3d-053c-4892-8c4e-2a2cc64b3f71",
   "metadata": {},
   "outputs": [],
   "source": [
    "df = pd.read_csv(\"C:/Users/phuon/EDX/EPQDataAnalysis/_Extracted Data 2/filesTV_2_2.csv\", delimiter = \",\")\n",
    "\n",
    "df[\"Activity\"] = df[\"Activity\"].fillna(\"Falling Forwards\")\n",
    "\n",
    "df.to_csv(\"C:/Users/phuon/EDX/EPQDataAnalysis/_Extracted Data 2/filesTV_2_2.csv\", index=False) "
   ]
  },
  {
   "cell_type": "code",
   "execution_count": 7,
   "id": "3e3b2964-903c-4b35-b028-8e3cba7df1d5",
   "metadata": {},
   "outputs": [],
   "source": [
    "df = pd.read_csv(\"C:/Users/phuon/EDX/EPQDataAnalysis/_Extracted Data 2/filesTV_2_3.csv\", delimiter = \",\")\n",
    "\n",
    "df[\"Activity\"] = df[\"Activity\"].fillna(\"Falling Forwards\")\n",
    "\n",
    "df.to_csv(\"C:/Users/phuon/EDX/EPQDataAnalysis/_Extracted Data 2/filesTV_2_3.csv\", index=False) "
   ]
  },
  {
   "cell_type": "code",
   "execution_count": 8,
   "id": "42b51acf-26f4-4d0d-9699-fd940d539171",
   "metadata": {},
   "outputs": [],
   "source": [
    "df = pd.read_csv(\"C:/Users/phuon/EDX/EPQDataAnalysis/_Extracted Data 2/filesTV_3_1.csv\", delimiter = \",\")\n",
    "\n",
    "df[\"Activity\"] = df[\"Activity\"].fillna(\"Falling Backwards\")\n",
    "\n",
    "df.to_csv(\"C:/Users/phuon/EDX/EPQDataAnalysis/_Extracted Data 2/filesTV_3_1.csv\", index=False) "
   ]
  },
  {
   "cell_type": "code",
   "execution_count": 9,
   "id": "6605f94a-a46c-4913-a230-ee0247107dde",
   "metadata": {},
   "outputs": [],
   "source": [
    "df = pd.read_csv(\"C:/Users/phuon/EDX/EPQDataAnalysis/_Extracted Data 2/filesTV_3_2.csv\", delimiter = \",\")\n",
    "\n",
    "df[\"Activity\"] = df[\"Activity\"].fillna(\"Falling Backwards\")\n",
    "\n",
    "df.to_csv(\"C:/Users/phuon/EDX/EPQDataAnalysis/_Extracted Data 2/filesTV_3_2.csv\", index=False) "
   ]
  },
  {
   "cell_type": "code",
   "execution_count": 10,
   "id": "364dfd35-2d1d-484a-9ad4-3ca0c33b8f8f",
   "metadata": {},
   "outputs": [],
   "source": [
    "df = pd.read_csv(\"C:/Users/phuon/EDX/EPQDataAnalysis/_Extracted Data 2/filesTV_3_3.csv\", delimiter = \",\")\n",
    "\n",
    "df[\"Activity\"] = df[\"Activity\"].fillna(\"Falling Backwards\")\n",
    "\n",
    "df.to_csv(\"C:/Users/phuon/EDX/EPQDataAnalysis/_Extracted Data 2/filesTV_3_3.csv\", index=False) "
   ]
  },
  {
   "cell_type": "code",
   "execution_count": 11,
   "id": "eb7d79c4-122f-45e1-95d7-000076759b74",
   "metadata": {},
   "outputs": [],
   "source": [
    "df = pd.read_csv(\"C:/Users/phuon/EDX/EPQDataAnalysis/_Extracted Data 2/filesTV_4_1.csv\", delimiter = \",\")\n",
    "\n",
    "df[\"Activity\"] = df[\"Activity\"].fillna(\"Falling Side\")\n",
    "\n",
    "df.to_csv(\"C:/Users/phuon/EDX/EPQDataAnalysis/_Extracted Data 2/filesTV_4_1.csv\", index=False) "
   ]
  },
  {
   "cell_type": "code",
   "execution_count": 12,
   "id": "da69d47c-d3ed-45dd-9071-5c1be5869941",
   "metadata": {},
   "outputs": [],
   "source": [
    "df = pd.read_csv(\"C:/Users/phuon/EDX/EPQDataAnalysis/_Extracted Data 2/filesTV_4_2.csv\", delimiter = \",\")\n",
    "\n",
    "df[\"Activity\"] = df[\"Activity\"].fillna(\"Falling Side\")\n",
    "\n",
    "df.to_csv(\"C:/Users/phuon/EDX/EPQDataAnalysis/_Extracted Data 2/filesTV_4_2.csv\", index=False) "
   ]
  },
  {
   "cell_type": "code",
   "execution_count": 13,
   "id": "2881f5c4-28c2-416b-963b-5ffc0253e9ef",
   "metadata": {},
   "outputs": [],
   "source": [
    "df = pd.read_csv(\"C:/Users/phuon/EDX/EPQDataAnalysis/_Extracted Data 2/filesTV_4_3.csv\", delimiter = \",\")\n",
    "\n",
    "df[\"Activity\"] = df[\"Activity\"].fillna(\"Falling Side\")\n",
    "\n",
    "df.to_csv(\"C:/Users/phuon/EDX/EPQDataAnalysis/_Extracted Data 2/filesTV_4_3.csv\", index=False) "
   ]
  },
  {
   "cell_type": "code",
   "execution_count": 14,
   "id": "f11fcf80-555a-43e0-9127-b1f335e4b4ba",
   "metadata": {},
   "outputs": [],
   "source": [
    "df = pd.read_csv(\"C:/Users/phuon/EDX/EPQDataAnalysis/_Extracted Data 2/filesTV_5_1.csv\", delimiter = \",\")\n",
    "\n",
    "df[\"Activity\"] = df[\"Activity\"].fillna(\"Dropping\")\n",
    "\n",
    "df.to_csv(\"C:/Users/phuon/EDX/EPQDataAnalysis/_Extracted Data 2/filesTV_5_1.csv\", index=False) "
   ]
  },
  {
   "cell_type": "code",
   "execution_count": 15,
   "id": "618e372f-7a31-4607-ad28-fe54c5a10d30",
   "metadata": {},
   "outputs": [],
   "source": [
    "df = pd.read_csv(\"C:/Users/phuon/EDX/EPQDataAnalysis/_Extracted Data 2/filesTV_5_2.csv\", delimiter = \",\")\n",
    "\n",
    "df[\"Activity\"] = df[\"Activity\"].fillna(\"Dropping\")\n",
    "\n",
    "df.to_csv(\"C:/Users/phuon/EDX/EPQDataAnalysis/_Extracted Data 2/filesTV_5_2.csv\", index=False) "
   ]
  },
  {
   "cell_type": "code",
   "execution_count": 16,
   "id": "ea7cf83d-ebc1-456c-899c-734cc3f3df27",
   "metadata": {},
   "outputs": [],
   "source": [
    "df = pd.read_csv(\"C:/Users/phuon/EDX/EPQDataAnalysis/_Extracted Data 2/filesTV_5_3.csv\", delimiter = \",\")\n",
    "\n",
    "df[\"Activity\"] = df[\"Activity\"].fillna(\"Dropping\")\n",
    "\n",
    "df.to_csv(\"C:/Users/phuon/EDX/EPQDataAnalysis/_Extracted Data 2/filesTV_5_3.csv\", index=False) "
   ]
  },
  {
   "cell_type": "code",
   "execution_count": null,
   "id": "8a929333-1dc6-427b-8b50-b3093c4a8d2c",
   "metadata": {},
   "outputs": [],
   "source": []
  }
 ],
 "metadata": {
  "kernelspec": {
   "display_name": "Python 3 (ipykernel)",
   "language": "python",
   "name": "python3"
  },
  "language_info": {
   "codemirror_mode": {
    "name": "ipython",
    "version": 3
   },
   "file_extension": ".py",
   "mimetype": "text/x-python",
   "name": "python",
   "nbconvert_exporter": "python",
   "pygments_lexer": "ipython3",
   "version": "3.9.7"
  }
 },
 "nbformat": 4,
 "nbformat_minor": 5
}
