{
 "cells": [
  {
   "cell_type": "code",
   "execution_count": 55,
   "id": "2fe74207-3232-4727-bd73-ecac0f825ab2",
   "metadata": {},
   "outputs": [],
   "source": [
    "%matplotlib inline\n",
    "import numpy as np \n",
    "import pandas as pd\n",
    "import matplotlib as mpl\n",
    "import matplotlib.pyplot as plt\n",
    "import seaborn as sns\n",
    "import os"
   ]
  },
  {
   "cell_type": "code",
   "execution_count": 56,
   "id": "8036aebe-a541-452c-aeab-4f9274dbf7e9",
   "metadata": {},
   "outputs": [],
   "source": [
    "BD_1_1 = pd.read_csv(\"C:/Users/phuon/EDX/EPQDataAnalysis/_Extracted Data/filesBD_1_1.csv\", delimiter = \",\")\n",
    "\n",
    "min_value_AX = BD_1_1[\"AX\"].min()\n",
    "min_value_AY = BD_1_1[\"AY\"].min()\n",
    "min_value_AZ = BD_1_1[\"AZ\"].min()\n",
    "\n",
    "max_value_AX = BD_1_1[\"AX\"].max()\n",
    "max_value_AY = BD_1_1[\"AY\"].max()\n",
    "max_value_AZ = BD_1_1[\"AZ\"].max()"
   ]
  },
  {
   "cell_type": "code",
   "execution_count": 57,
   "id": "4c2f9991-8ee7-4548-8c03-fd9517e374ee",
   "metadata": {},
   "outputs": [
    {
     "name": "stdout",
     "output_type": "stream",
     "text": [
      "2.03\n",
      "1.37\n",
      "User has not fallen\n"
     ]
    }
   ],
   "source": [
    "delta_AX = abs(max_value_AX) + abs(min_value_AX)\n",
    "delta_AY= abs(max_value_AY) + abs(min_value_AY)\n",
    "delta_AZ= abs(max_value_AZ) + abs(min_value_AZ)\n",
    "\n",
    "print(delta_AY)\n",
    "print(delta_AZ)\n",
    "\n",
    "if (2.8 <= delta_AY <= 4) and (1.9 <= delta_AZ <= 3.8):\n",
    "    print(\"User has fallen\")\n",
    "else:\n",
    "    print(\"User has not fallen\")"
   ]
  },
  {
   "cell_type": "code",
   "execution_count": 58,
   "id": "504344fc-7b3a-4f2b-b3bb-eb1f031dd91b",
   "metadata": {},
   "outputs": [
    {
     "name": "stdout",
     "output_type": "stream",
     "text": [
      "C:/Users/phuon/EDX/EPQDataAnalysis/_Extracted Data/filesBD_1_1.csv\n",
      "C:/Users/phuon/EDX/EPQDataAnalysis/_Extracted Data/filesBD_1_2.csv\n",
      "C:/Users/phuon/EDX/EPQDataAnalysis/_Extracted Data/filesBD_1_3.csv\n",
      "C:/Users/phuon/EDX/EPQDataAnalysis/_Extracted Data/filesBD_2_1.csv\n",
      "C:/Users/phuon/EDX/EPQDataAnalysis/_Extracted Data/filesBD_2_2.csv\n",
      "C:/Users/phuon/EDX/EPQDataAnalysis/_Extracted Data/filesBD_2_3.csv\n",
      "C:/Users/phuon/EDX/EPQDataAnalysis/_Extracted Data/filesBD_3_1.csv\n",
      "C:/Users/phuon/EDX/EPQDataAnalysis/_Extracted Data/filesBD_3_2.csv\n",
      "C:/Users/phuon/EDX/EPQDataAnalysis/_Extracted Data/filesBD_3_3.csv\n",
      "C:/Users/phuon/EDX/EPQDataAnalysis/_Extracted Data/filesBD_4_1.csv\n",
      "C:/Users/phuon/EDX/EPQDataAnalysis/_Extracted Data/filesBD_4_2.csv\n",
      "C:/Users/phuon/EDX/EPQDataAnalysis/_Extracted Data/filesBD_4_3.csv\n",
      "C:/Users/phuon/EDX/EPQDataAnalysis/_Extracted Data/filesBD_5_1.csv\n",
      "C:/Users/phuon/EDX/EPQDataAnalysis/_Extracted Data/filesBD_5_2.csv\n",
      "C:/Users/phuon/EDX/EPQDataAnalysis/_Extracted Data/filesBD_5_3.csv\n",
      "C:/Users/phuon/EDX/EPQDataAnalysis/_Extracted Data/filesTV_1_1.csv\n",
      "C:/Users/phuon/EDX/EPQDataAnalysis/_Extracted Data/filesTV_1_2.csv\n",
      "C:/Users/phuon/EDX/EPQDataAnalysis/_Extracted Data/filesTV_1_3.csv\n",
      "C:/Users/phuon/EDX/EPQDataAnalysis/_Extracted Data/filesTV_2_1.csv\n",
      "C:/Users/phuon/EDX/EPQDataAnalysis/_Extracted Data/filesTV_2_2.csv\n",
      "C:/Users/phuon/EDX/EPQDataAnalysis/_Extracted Data/filesTV_2_3.csv\n",
      "C:/Users/phuon/EDX/EPQDataAnalysis/_Extracted Data/filesTV_3_1.csv\n",
      "C:/Users/phuon/EDX/EPQDataAnalysis/_Extracted Data/filesTV_3_2.csv\n",
      "C:/Users/phuon/EDX/EPQDataAnalysis/_Extracted Data/filesTV_3_3.csv\n",
      "C:/Users/phuon/EDX/EPQDataAnalysis/_Extracted Data/filesTV_4_1.csv\n",
      "C:/Users/phuon/EDX/EPQDataAnalysis/_Extracted Data/filesTV_4_2.csv\n",
      "C:/Users/phuon/EDX/EPQDataAnalysis/_Extracted Data/filesTV_4_3.csv\n",
      "C:/Users/phuon/EDX/EPQDataAnalysis/_Extracted Data/filesTV_5_1.csv\n",
      "C:/Users/phuon/EDX/EPQDataAnalysis/_Extracted Data/filesTV_5_2.csv\n",
      "C:/Users/phuon/EDX/EPQDataAnalysis/_Extracted Data/filesTV_5_3.csv\n"
     ]
    }
   ],
   "source": [
    "# assign directory\n",
    "directory = \"C:/Users/phuon/EDX/EPQDataAnalysis/_Extracted Data/\"\n",
    " \n",
    "# iterate over files in\n",
    "# that directory\n",
    "for filename in os.listdir(directory):\n",
    "    f = os.path.join(directory, filename)\n",
    "    # checking if it is a file\n",
    "    if os.path.isfile(f):\n",
    "        print(f)"
   ]
  },
  {
   "cell_type": "code",
   "execution_count": 59,
   "id": "b0fc5016-0aaa-4997-bd81-3f0403c4cbda",
   "metadata": {},
   "outputs": [
    {
     "name": "stdout",
     "output_type": "stream",
     "text": [
      "C:/Users/phuon/EDX/EPQDataAnalysis/_Extracted Data/filesBD_1_1.csv ----- User has not fallen\n",
      "C:/Users/phuon/EDX/EPQDataAnalysis/_Extracted Data/filesBD_1_2.csv ----- User has not fallen\n",
      "C:/Users/phuon/EDX/EPQDataAnalysis/_Extracted Data/filesBD_1_3.csv ----- User has not fallen\n",
      "C:/Users/phuon/EDX/EPQDataAnalysis/_Extracted Data/filesBD_2_1.csv ----- User has fallen\n",
      "C:/Users/phuon/EDX/EPQDataAnalysis/_Extracted Data/filesBD_2_2.csv ----- User has fallen\n",
      "C:/Users/phuon/EDX/EPQDataAnalysis/_Extracted Data/filesBD_2_3.csv ----- User has not fallen\n",
      "C:/Users/phuon/EDX/EPQDataAnalysis/_Extracted Data/filesBD_3_1.csv ----- User has fallen\n",
      "C:/Users/phuon/EDX/EPQDataAnalysis/_Extracted Data/filesBD_3_2.csv ----- User has fallen\n",
      "C:/Users/phuon/EDX/EPQDataAnalysis/_Extracted Data/filesBD_3_3.csv ----- User has not fallen\n",
      "C:/Users/phuon/EDX/EPQDataAnalysis/_Extracted Data/filesBD_4_1.csv ----- User has fallen\n",
      "C:/Users/phuon/EDX/EPQDataAnalysis/_Extracted Data/filesBD_4_2.csv ----- User has fallen\n",
      "C:/Users/phuon/EDX/EPQDataAnalysis/_Extracted Data/filesBD_4_3.csv ----- User has not fallen\n",
      "C:/Users/phuon/EDX/EPQDataAnalysis/_Extracted Data/filesBD_5_1.csv ----- User has not fallen\n",
      "C:/Users/phuon/EDX/EPQDataAnalysis/_Extracted Data/filesBD_5_2.csv ----- User has fallen\n",
      "C:/Users/phuon/EDX/EPQDataAnalysis/_Extracted Data/filesBD_5_3.csv ----- User has not fallen\n",
      "C:/Users/phuon/EDX/EPQDataAnalysis/_Extracted Data/filesTV_1_1.csv ----- User has not fallen\n",
      "C:/Users/phuon/EDX/EPQDataAnalysis/_Extracted Data/filesTV_1_2.csv ----- User has not fallen\n",
      "C:/Users/phuon/EDX/EPQDataAnalysis/_Extracted Data/filesTV_1_3.csv ----- User has not fallen\n",
      "C:/Users/phuon/EDX/EPQDataAnalysis/_Extracted Data/filesTV_2_1.csv ----- User has not fallen\n",
      "C:/Users/phuon/EDX/EPQDataAnalysis/_Extracted Data/filesTV_2_2.csv ----- User has not fallen\n",
      "C:/Users/phuon/EDX/EPQDataAnalysis/_Extracted Data/filesTV_2_3.csv ----- User has not fallen\n",
      "C:/Users/phuon/EDX/EPQDataAnalysis/_Extracted Data/filesTV_3_1.csv ----- User has not fallen\n",
      "C:/Users/phuon/EDX/EPQDataAnalysis/_Extracted Data/filesTV_3_2.csv ----- User has not fallen\n",
      "C:/Users/phuon/EDX/EPQDataAnalysis/_Extracted Data/filesTV_3_3.csv ----- User has not fallen\n",
      "C:/Users/phuon/EDX/EPQDataAnalysis/_Extracted Data/filesTV_4_1.csv ----- User has fallen\n",
      "C:/Users/phuon/EDX/EPQDataAnalysis/_Extracted Data/filesTV_4_2.csv ----- User has not fallen\n",
      "C:/Users/phuon/EDX/EPQDataAnalysis/_Extracted Data/filesTV_4_3.csv ----- User has not fallen\n",
      "C:/Users/phuon/EDX/EPQDataAnalysis/_Extracted Data/filesTV_5_1.csv ----- User has not fallen\n",
      "C:/Users/phuon/EDX/EPQDataAnalysis/_Extracted Data/filesTV_5_2.csv ----- User has not fallen\n",
      "C:/Users/phuon/EDX/EPQDataAnalysis/_Extracted Data/filesTV_5_3.csv ----- User has not fallen\n"
     ]
    }
   ],
   "source": [
    "# assign directory\n",
    "directory = \"C:/Users/phuon/EDX/EPQDataAnalysis/_Extracted Data/\"\n",
    " \n",
    "# iterate over files in\n",
    "# that directory\n",
    "for filename in os.listdir(directory):\n",
    "    f = os.path.join(directory, filename)\n",
    "    # checking if it is a file\n",
    "    if os.path.isfile(f):\n",
    "        df = pd.read_csv(f, delimiter = \",\")\n",
    "        min_value_AX = df[\"AX\"].min()\n",
    "        min_value_AY = df[\"AY\"].min()\n",
    "        min_value_AZ = df[\"AZ\"].min()\n",
    "\n",
    "        max_value_AX = df[\"AX\"].max()\n",
    "        max_value_AY = df[\"AY\"].max()\n",
    "        max_value_AZ = df[\"AZ\"].max()\n",
    "        \n",
    "        delta_AX = abs(max_value_AX) + abs(min_value_AX)\n",
    "        delta_AY= abs(max_value_AY) + abs(min_value_AY)\n",
    "        delta_AZ= abs(max_value_AZ) + abs(min_value_AZ)\n",
    "\n",
    "        if (2.8 <= delta_AY <= 4) and (1.9 <= delta_AZ <= 3.8):\n",
    "            print(f + \" ----- User has fallen\")\n",
    "        else:\n",
    "            print(f + \" ----- User has not fallen\")"
   ]
  },
  {
   "cell_type": "code",
   "execution_count": 66,
   "id": "bcac9415-1e10-4719-9736-d8a383baaa09",
   "metadata": {},
   "outputs": [
    {
     "data": {
      "image/png": "[encoded data removed]",
      "text/plain": [
       "<Figure size 432x288 with 2 Axes>"
      ]
     },
     "metadata": {
      "needs_background": "light"
     },
     "output_type": "display_data"
    }
   ],
   "source": [
    "cf_matrix = [[6, 5], [3, 1]]\n",
    "ax = sns.heatmap(cf_matrix, annot=True, cmap='Blues')\n",
    "\n",
    "ax.set_title('Confusion Matrix of BD_Data (Delta X,Y,Z) \\n');\n",
    "ax.set_xlabel('\\nPredicted Values')\n",
    "ax.set_ylabel('Actual Values ');\n",
    "\n",
    "## Ticket labels - List must be in alphabetical order\n",
    "ax.xaxis.set_ticklabels(['Positive','Negative'])\n",
    "ax.yaxis.set_ticklabels(['True','False'])\n",
    "\n",
    "## Display the visualization of the Confusion Matrix.\n",
    "plt.show()"
   ]
  },
  {
   "cell_type": "code",
   "execution_count": null,
   "id": "1d6cd892-266b-4f52-9676-05584a2f4ae5",
   "metadata": {},
   "outputs": [],
   "source": []
  }
 ],
 "metadata": {
  "kernelspec": {
   "display_name": "Python 3 (ipykernel)",
   "language": "python",
   "name": "python3"
  },
  "language_info": {
   "codemirror_mode": {
    "name": "ipython",
    "version": 3
   },
   "file_extension": ".py",
   "mimetype": "text/x-python",
   "name": "python",
   "nbconvert_exporter": "python",
   "pygments_lexer": "ipython3",
   "version": "3.9.7"
  }
 },
 "nbformat": 4,
 "nbformat_minor": 5
}
