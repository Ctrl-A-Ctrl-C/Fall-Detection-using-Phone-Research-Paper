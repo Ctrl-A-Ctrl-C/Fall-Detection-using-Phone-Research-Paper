{
 "cells": [
  {
   "cell_type": "code",
   "execution_count": 37,
   "id": "ecd955aa-16dc-48de-814e-86121ad074f7",
   "metadata": {},
   "outputs": [
    {
     "name": "stdout",
     "output_type": "stream",
     "text": [
      "2.8.0\n"
     ]
    }
   ],
   "source": [
    "import tensorflow as tf\n",
    "from tensorflow.keras import Sequential\n",
    "from tensorflow.keras.layers import Flatten, Dense, Dropout, BatchNormalization\n",
    "from tensorflow.keras.layers import Conv2D, MaxPool2D\n",
    "from tensorflow.keras.optimizers import Adam\n",
    "print(tf.__version__)"
   ]
  },
  {
   "cell_type": "code",
   "execution_count": 38,
   "id": "26bcef3b-f3fb-47e6-b88e-94e5e80c7c68",
   "metadata": {},
   "outputs": [],
   "source": [
    "import pandas as pd\n",
    "import numpy as np\n",
    "import matplotlib.pyplot as plt\n",
    "from sklearn.model_selection import train_test_split\n",
    "from sklearn.preprocessing import StandardScaler, LabelEncoder\n",
    "import matplotlib as mpl\n",
    "import seaborn as sns\n",
    "import os\n",
    "import glob"
   ]
  },
  {
   "cell_type": "code",
   "execution_count": 39,
   "id": "6284c51f-24de-41b8-b802-03a0b35f6e14",
   "metadata": {},
   "outputs": [
    {
     "name": "stdout",
     "output_type": "stream",
     "text": [
      "Resultant CSV after joining all CSV files at a particular location...\n",
      "        AX    AY    AZ    GX    GY    GZ  Activity\n",
      "0     0.16 -0.95 -0.15 -0.12 -0.27 -0.05   Walking\n",
      "1     0.22 -0.95 -0.15   NaN -0.40 -0.16   Walking\n",
      "2     0.16 -0.96 -0.16  0.04 -0.36 -0.19   Walking\n",
      "3     0.13 -0.96 -0.16  0.07 -0.21 -0.21   Walking\n",
      "4     0.17 -0.98 -0.10  0.20 -0.20 -0.22   Walking\n",
      "...    ...   ...   ...   ...   ...   ...       ...\n",
      "1613  0.07 -0.15  1.56  0.83 -0.87  0.47  Dropping\n",
      "1614 -0.09 -0.02  0.78  0.17 -0.79  0.42  Dropping\n",
      "1615  0.02 -0.01  0.94  0.12  0.09  0.09  Dropping\n",
      "1616  0.01 -0.01  1.04  0.01 -0.02  0.01  Dropping\n",
      "1617  0.02   NaN  1.01   NaN   NaN  0.01  Dropping\n",
      "\n",
      "[1618 rows x 7 columns]\n"
     ]
    }
   ],
   "source": [
    "# setting the path for joining multiple files\n",
    "files = os.path.join(\"C:/Users/phuon/EDX/EPQDataAnalysis/_Extracted Data 2\", \"files*.csv\")\n",
    "\n",
    "# list of merged files returned\n",
    "files = glob.glob(files)\n",
    "\n",
    "print(\"Resultant CSV after joining all CSV files at a particular location...\");\n",
    "\n",
    "# joining files with concat and read_csv\n",
    "df = pd.concat(map(pd.read_csv, files), ignore_index=True)\n",
    "print(df)"
   ]
  },
  {
   "cell_type": "code",
   "execution_count": 40,
   "id": "f5144407-23e0-4058-bd92-382a4b32a01b",
   "metadata": {},
   "outputs": [],
   "source": [
    "df.to_csv(\"C:/Users/phuon/EDX/EPQDataAnalysis/_Extracted Data 2/files_combined.csv\", index=False)"
   ]
  },
  {
   "cell_type": "code",
   "execution_count": null,
   "id": "109e2409-2567-416f-8a94-7774099021d2",
   "metadata": {},
   "outputs": [],
   "source": []
  }
 ],
 "metadata": {
  "kernelspec": {
   "display_name": "Python 3 (ipykernel)",
   "language": "python",
   "name": "python3"
  },
  "language_info": {
   "codemirror_mode": {
    "name": "ipython",
    "version": 3
   },
   "file_extension": ".py",
   "mimetype": "text/x-python",
   "name": "python",
   "nbconvert_exporter": "python",
   "pygments_lexer": "ipython3",
   "version": "3.9.7"
  }
 },
 "nbformat": 4,
 "nbformat_minor": 5
}
